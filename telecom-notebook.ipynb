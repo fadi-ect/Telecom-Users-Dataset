{
 "cells": [
  {
   "cell_type": "markdown",
   "metadata": {
    "cell_id": "00001-716257da-8bbd-4c18-a929-5a1346c1fc4d",
    "deepnote_cell_type": "markdown",
    "tags": []
   },
   "source": [
    "# Telecom users dataset\n",
    "# \n",
    "\n",
    "Link: https://www.kaggle.com/radmirzosimov/telecom-users-dataset"
   ]
  },
  {
   "cell_type": "markdown",
   "metadata": {
    "cell_id": "00000-67e24849-be6a-4c6f-9276-d87c69017fda",
    "deepnote_cell_type": "markdown",
    "tags": []
   },
   "source": [
    "### Librairies"
   ]
  },
  {
   "cell_type": "code",
   "execution_count": null,
   "metadata": {
    "cell_id": "00003-7594cbf1-b78a-483f-9db8-ad777c08cb71",
    "deepnote_cell_type": "code",
    "deepnote_to_be_reexecuted": false,
    "execution_millis": 797,
    "execution_start": 1615988304842,
    "source_hash": "6d2f3546",
    "tags": []
   },
   "outputs": [],
   "source": [
    "import pandas as pd\n",
    "import numpy as np\n",
    "import pyspark\n",
    "from pyspark.sql import SparkSession\n",
    "import matplotlib.pyplot as plt\n",
    "import seaborn as sns\n",
    "\n",
    "from pyspark.sql.types import StructType,StructField, StringType, IntegerType, DoubleType"
   ]
  },
  {
   "cell_type": "code",
   "execution_count": null,
   "metadata": {
    "cell_id": "00003-32dafa57-7aa0-4f4b-9883-500b4e8d1a38",
    "deepnote_cell_type": "code",
    "deepnote_to_be_reexecuted": false,
    "execution_millis": 8963,
    "execution_start": 1615988305640,
    "source_hash": "3b8aed1c",
    "tags": []
   },
   "outputs": [
    {
     "name": "stdout",
     "output_type": "stream",
     "text": [
      "Get:1 http://security.debian.org/debian-security buster/updates InRelease [65.4 kB]\n",
      "Hit:2 http://deb.debian.org/debian buster InRelease\n",
      "Hit:3 http://deb.debian.org/debian buster-updates InRelease\n",
      "Fetched 65.4 kB in 0s (229 kB/s)\n",
      "\n",
      "\n",
      "\n",
      "\n",
      "openjdk-11-jdk is already the newest version (11.0.9.1+1-1~deb10u2).\n",
      "0 upgraded, 0 newly installed, 0 to remove and 1 not upgraded.\n",
      "Requirement already satisfied: pyspark in /root/venv/lib/python3.7/site-packages (3.1.1)\n",
      "Requirement already satisfied: py4j==0.10.9 in /root/venv/lib/python3.7/site-packages (from pyspark) (0.10.9)\n",
      "\u001b[33mWARNING: You are using pip version 20.1.1; however, version 21.0.1 is available.\n",
      "You should consider upgrading via the '/root/venv/bin/python -m pip install --upgrade pip' command.\u001b[0m\n",
      "Requirement already satisfied: import-java in /root/venv/lib/python3.7/site-packages (0.6)\n",
      "Requirement already satisfied: pyjnius in /root/venv/lib/python3.7/site-packages (from import-java) (1.3.0)\n",
      "Requirement already satisfied: six>=1.7.0 in /shared-libs/python3.7/py-core/lib/python3.7/site-packages (from pyjnius->import-java) (1.15.0)\n",
      "Requirement already satisfied: cython in /root/venv/lib/python3.7/site-packages (from pyjnius->import-java) (0.29.22)\n",
      "\u001b[33mWARNING: You are using pip version 20.1.1; however, version 21.0.1 is available.\n",
      "You should consider upgrading via the '/root/venv/bin/python -m pip install --upgrade pip' command.\u001b[0m\n"
     ]
    }
   ],
   "source": [
    "! sudo apt-get update\n",
    "! sudo mkdir -p /usr/share/man/man1\n",
    "! sudo apt-get install -y openjdk-11-jdk\n",
    "! pip install pyspark\n",
    "! pip install import-java"
   ]
  },
  {
   "cell_type": "code",
   "execution_count": null,
   "metadata": {
    "cell_id": "00002-29fc41a3-e541-4988-92ca-bd33d2cb20bd",
    "deepnote_cell_type": "code",
    "deepnote_to_be_reexecuted": false,
    "execution_millis": 142,
    "execution_start": 1615988314645,
    "source_hash": "209b1ae2",
    "tags": []
   },
   "outputs": [
    {
     "data": {
      "application/vnd.deepnote.dataframe.v2+json": {
       "column_count": 22,
       "columns": [
        {
         "dtype": "int64",
         "name": "Unnamed: 0",
         "stats": {
          "histogram": [
           {
            "bin_end": 704.2,
            "bin_start": 0,
            "count": 595
           },
           {
            "bin_end": 1408.4,
            "bin_start": 704.2,
            "count": 594
           },
           {
            "bin_end": 2112.6000000000004,
            "bin_start": 1408.4,
            "count": 601
           },
           {
            "bin_end": 2816.8,
            "bin_start": 2112.6000000000004,
            "count": 593
           },
           {
            "bin_end": 3521,
            "bin_start": 2816.8,
            "count": 587
           },
           {
            "bin_end": 4225.200000000001,
            "bin_start": 3521,
            "count": 605
           },
           {
            "bin_end": 4929.400000000001,
            "bin_start": 4225.200000000001,
            "count": 608
           },
           {
            "bin_end": 5633.6,
            "bin_start": 4929.400000000001,
            "count": 600
           },
           {
            "bin_end": 6337.8,
            "bin_start": 5633.6,
            "count": 590
           },
           {
            "bin_end": 7042,
            "bin_start": 6337.8,
            "count": 613
           }
          ],
          "max": 7042,
          "min": 0,
          "nan_count": 0,
          "unique_count": 5986
         }
        },
        {
         "dtype": "object",
         "name": "customerID",
         "stats": {
          "categories": [
           {
            "count": 1,
            "name": "7010-BRBUU"
           },
           {
            "count": 1,
            "name": "9688-YGXVR"
           },
           {
            "count": 5984,
            "name": "5984 others"
           }
          ],
          "nan_count": 0,
          "unique_count": 5986
         }
        },
        {
         "dtype": "object",
         "name": "gender",
         "stats": {
          "categories": [
           {
            "count": 3050,
            "name": "Male"
           },
           {
            "count": 2936,
            "name": "Female"
           }
          ],
          "nan_count": 0,
          "unique_count": 2
         }
        },
        {
         "dtype": "int64",
         "name": "SeniorCitizen",
         "stats": {
          "histogram": [
           {
            "bin_end": 0.1,
            "bin_start": 0,
            "count": 5020
           },
           {
            "bin_end": 0.2,
            "bin_start": 0.1,
            "count": 0
           },
           {
            "bin_end": 0.30000000000000004,
            "bin_start": 0.2,
            "count": 0
           },
           {
            "bin_end": 0.4,
            "bin_start": 0.30000000000000004,
            "count": 0
           },
           {
            "bin_end": 0.5,
            "bin_start": 0.4,
            "count": 0
           },
           {
            "bin_end": 0.6000000000000001,
            "bin_start": 0.5,
            "count": 0
           },
           {
            "bin_end": 0.7000000000000001,
            "bin_start": 0.6000000000000001,
            "count": 0
           },
           {
            "bin_end": 0.8,
            "bin_start": 0.7000000000000001,
            "count": 0
           },
           {
            "bin_end": 0.9,
            "bin_start": 0.8,
            "count": 0
           },
           {
            "bin_end": 1,
            "bin_start": 0.9,
            "count": 966
           }
          ],
          "max": 1,
          "min": 0,
          "nan_count": 0,
          "unique_count": 2
         }
        },
        {
         "dtype": "object",
         "name": "Partner",
         "stats": {
          "categories": [
           {
            "count": 3082,
            "name": "No"
           },
           {
            "count": 2904,
            "name": "Yes"
           }
          ],
          "nan_count": 0,
          "unique_count": 2
         }
        },
        {
         "dtype": "object",
         "name": "Dependents",
         "stats": {
          "categories": [
           {
            "count": 4195,
            "name": "No"
           },
           {
            "count": 1791,
            "name": "Yes"
           }
          ],
          "nan_count": 0,
          "unique_count": 2
         }
        },
        {
         "dtype": "int64",
         "name": "tenure",
         "stats": {
          "histogram": [
           {
            "bin_end": 7.2,
            "bin_start": 0,
            "count": 1357
           },
           {
            "bin_end": 14.4,
            "bin_start": 7.2,
            "count": 640
           },
           {
            "bin_end": 21.6,
            "bin_start": 14.4,
            "count": 490
           },
           {
            "bin_end": 28.8,
            "bin_start": 21.6,
            "count": 471
           },
           {
            "bin_end": 36,
            "bin_start": 28.8,
            "count": 428
           },
           {
            "bin_end": 43.2,
            "bin_start": 36,
            "count": 424
           },
           {
            "bin_end": 50.4,
            "bin_start": 43.2,
            "count": 384
           },
           {
            "bin_end": 57.6,
            "bin_start": 50.4,
            "count": 419
           },
           {
            "bin_end": 64.8,
            "bin_start": 57.6,
            "count": 437
           },
           {
            "bin_end": 72,
            "bin_start": 64.8,
            "count": 936
           }
          ],
          "max": 72,
          "min": 0,
          "nan_count": 0,
          "unique_count": 73
         }
        },
        {
         "dtype": "object",
         "name": "PhoneService",
         "stats": {
          "categories": [
           {
            "count": 5396,
            "name": "Yes"
           },
           {
            "count": 590,
            "name": "No"
           }
          ],
          "nan_count": 0,
          "unique_count": 2
         }
        },
        {
         "dtype": "object",
         "name": "MultipleLines",
         "stats": {
          "categories": [
           {
            "count": 2848,
            "name": "No"
           },
           {
            "count": 2548,
            "name": "Yes"
           },
           {
            "count": 590,
            "name": "No phone service"
           }
          ],
          "nan_count": 0,
          "unique_count": 3
         }
        },
        {
         "dtype": "object",
         "name": "InternetService",
         "stats": {
          "categories": [
           {
            "count": 2627,
            "name": "Fiber optic"
           },
           {
            "count": 2068,
            "name": "DSL"
           },
           {
            "count": 1291,
            "name": "No"
           }
          ],
          "nan_count": 0,
          "unique_count": 3
         }
        },
        {
         "dtype": "object",
         "name": "OnlineSecurity",
         "stats": {
          "categories": [
           {
            "count": 2982,
            "name": "No"
           },
           {
            "count": 1713,
            "name": "Yes"
           },
           {
            "count": 1291,
            "name": "No internet service"
           }
          ],
          "nan_count": 0,
          "unique_count": 3
         }
        },
        {
         "dtype": "object",
         "name": "OnlineBackup",
         "stats": {
          "categories": [
           {
            "count": 2605,
            "name": "No"
           },
           {
            "count": 2090,
            "name": "Yes"
           },
           {
            "count": 1291,
            "name": "No internet service"
           }
          ],
          "nan_count": 0,
          "unique_count": 3
         }
        },
        {
         "dtype": "object",
         "name": "DeviceProtection",
         "stats": {
          "categories": [
           {
            "count": 2640,
            "name": "No"
           },
           {
            "count": 2055,
            "name": "Yes"
           },
           {
            "count": 1291,
            "name": "No internet service"
           }
          ],
          "nan_count": 0,
          "unique_count": 3
         }
        },
        {
         "dtype": "object",
         "name": "TechSupport",
         "stats": {
          "categories": [
           {
            "count": 2960,
            "name": "No"
           },
           {
            "count": 1735,
            "name": "Yes"
           },
           {
            "count": 1291,
            "name": "No internet service"
           }
          ],
          "nan_count": 0,
          "unique_count": 3
         }
        },
        {
         "dtype": "object",
         "name": "StreamingTV",
         "stats": {
          "categories": [
           {
            "count": 2389,
            "name": "No"
           },
           {
            "count": 2306,
            "name": "Yes"
           },
           {
            "count": 1291,
            "name": "No internet service"
           }
          ],
          "nan_count": 0,
          "unique_count": 3
         }
        },
        {
         "dtype": "object",
         "name": "StreamingMovies",
         "stats": {
          "categories": [
           {
            "count": 2356,
            "name": "No"
           },
           {
            "count": 2339,
            "name": "Yes"
           },
           {
            "count": 1291,
            "name": "No internet service"
           }
          ],
          "nan_count": 0,
          "unique_count": 3
         }
        },
        {
         "dtype": "object",
         "name": "Contract"
        },
        {
         "dtype": "object",
         "name": "PaperlessBilling"
        },
        {
         "dtype": "object",
         "name": "PaymentMethod"
        },
        {
         "dtype": "float64",
         "name": "MonthlyCharges"
        },
        {
         "dtype": "object",
         "name": "TotalCharges"
        },
        {
         "dtype": "object",
         "name": "Churn"
        },
        {
         "dtype": "int64",
         "name": "_deepnote_index_column"
        }
       ],
       "row_count": 5986,
       "rows_bottom": [
        {
         "Churn": "No",
         "Contract": "One year",
         "Dependents": "No",
         "DeviceProtection": "Yes",
         "InternetService": "DSL",
         "MonthlyCharges": 50.8,
         "MultipleLines": "No phone service",
         "OnlineBackup": "No",
         "OnlineSecurity": "Yes",
         "PaperlessBilling": "No",
         "Partner": "No",
         "PaymentMethod": "Mailed check",
         "PhoneService": "No",
         "SeniorCitizen": 0,
         "StreamingMovies": "Yes",
         "StreamingTV": "No",
         "TechSupport": "Yes",
         "TotalCharges": "463.6",
         "Unnamed: 0": 2433,
         "_deepnote_index_column": 5963,
         "customerID": "8314-DPQHL",
         "gender": "Male",
         "tenure": 9
        },
        {
         "Churn": "No",
         "Contract": "One year",
         "Dependents": "Yes",
         "DeviceProtection": "Yes",
         "InternetService": "DSL",
         "MonthlyCharges": 36.25,
         "MultipleLines": "No phone service",
         "OnlineBackup": "No",
         "OnlineSecurity": "No",
         "PaperlessBilling": "Yes",
         "Partner": "Yes",
         "PaymentMethod": "Mailed check",
         "PhoneService": "No",
         "SeniorCitizen": 0,
         "StreamingMovies": "No",
         "StreamingTV": "No",
         "TechSupport": "Yes",
         "TotalCharges": "1151.05",
         "Unnamed: 0": 6949,
         "_deepnote_index_column": 5964,
         "customerID": "3648-GZPHF",
         "gender": "Male",
         "tenure": 32
        },
        {
         "Churn": "No",
         "Contract": "Month-to-month",
         "Dependents": "No",
         "DeviceProtection": "No",
         "InternetService": "Fiber optic",
         "MonthlyCharges": 100.4,
         "MultipleLines": "Yes",
         "OnlineBackup": "No",
         "OnlineSecurity": "No",
         "PaperlessBilling": "Yes",
         "Partner": "Yes",
         "PaymentMethod": "Bank transfer (automatic)",
         "PhoneService": "Yes",
         "SeniorCitizen": 1,
         "StreamingMovies": "Yes",
         "StreamingTV": "Yes",
         "TechSupport": "Yes",
         "TotalCharges": "5749.8",
         "Unnamed: 0": 5611,
         "_deepnote_index_column": 5965,
         "customerID": "6847-KJLTS",
         "gender": "Female",
         "tenure": 58
        },
        {
         "Churn": "No",
         "Contract": "Month-to-month",
         "Dependents": "No",
         "DeviceProtection": "No",
         "InternetService": "DSL",
         "MonthlyCharges": 59.25,
         "MultipleLines": "Yes",
         "OnlineBackup": "No",
         "OnlineSecurity": "No",
         "PaperlessBilling": "Yes",
         "Partner": "No",
         "PaymentMethod": "Electronic check",
         "PhoneService": "Yes",
         "SeniorCitizen": 0,
         "StreamingMovies": "No",
         "StreamingTV": "Yes",
         "TechSupport": "No",
         "TotalCharges": "436.6",
         "Unnamed: 0": 2391,
         "_deepnote_index_column": 5966,
         "customerID": "7318-EIVKO",
         "gender": "Male",
         "tenure": 8
        },
        {
         "Churn": "No",
         "Contract": "One year",
         "Dependents": "No",
         "DeviceProtection": "No",
         "InternetService": "DSL",
         "MonthlyCharges": 64.8,
         "MultipleLines": "No",
         "OnlineBackup": "Yes",
         "OnlineSecurity": "Yes",
         "PaperlessBilling": "No",
         "Partner": "Yes",
         "PaymentMethod": "Mailed check",
         "PhoneService": "Yes",
         "SeniorCitizen": 0,
         "StreamingMovies": "Yes",
         "StreamingTV": "No",
         "TechSupport": "No",
         "TotalCharges": "1175.6",
         "Unnamed: 0": 769,
         "_deepnote_index_column": 5967,
         "customerID": "3137-NYQQI",
         "gender": "Male",
         "tenure": 17
        },
        {
         "Churn": "No",
         "Contract": "Month-to-month",
         "Dependents": "No",
         "DeviceProtection": "No",
         "InternetService": "Fiber optic",
         "MonthlyCharges": 70.55,
         "MultipleLines": "No",
         "OnlineBackup": "No",
         "OnlineSecurity": "No",
         "PaperlessBilling": "Yes",
         "Partner": "Yes",
         "PaymentMethod": "Electronic check",
         "PhoneService": "Yes",
         "SeniorCitizen": 1,
         "StreamingMovies": "No",
         "StreamingTV": "No",
         "TechSupport": "No",
         "TotalCharges": "1943.9",
         "Unnamed: 0": 1685,
         "_deepnote_index_column": 5968,
         "customerID": "9365-SRSZE",
         "gender": "Male",
         "tenure": 27
        },
        {
         "Churn": "No",
         "Contract": "Month-to-month",
         "Dependents": "No",
         "DeviceProtection": "No",
         "InternetService": "Fiber optic",
         "MonthlyCharges": 85.95,
         "MultipleLines": "Yes",
         "OnlineBackup": "No",
         "OnlineSecurity": "No",
         "PaperlessBilling": "Yes",
         "Partner": "No",
         "PaymentMethod": "Electronic check",
         "PhoneService": "Yes",
         "SeniorCitizen": 0,
         "StreamingMovies": "Yes",
         "StreamingTV": "No",
         "TechSupport": "No",
         "TotalCharges": "1215.65",
         "Unnamed: 0": 130,
         "_deepnote_index_column": 5969,
         "customerID": "2876-GZYZC",
         "gender": "Female",
         "tenure": 13
        },
        {
         "Churn": "No",
         "Contract": "Two year",
         "Dependents": "No",
         "DeviceProtection": "No",
         "InternetService": "DSL",
         "MonthlyCharges": 49.65,
         "MultipleLines": "No phone service",
         "OnlineBackup": "Yes",
         "OnlineSecurity": "No",
         "PaperlessBilling": "No",
         "Partner": "Yes",
         "PaymentMethod": "Credit card (automatic)",
         "PhoneService": "No",
         "SeniorCitizen": 0,
         "StreamingMovies": "Yes",
         "StreamingTV": "Yes",
         "TechSupport": "No",
         "TotalCharges": "2409.9",
         "Unnamed: 0": 2919,
         "_deepnote_index_column": 5970,
         "customerID": "1936-CZAKF",
         "gender": "Male",
         "tenure": 49
        },
        {
         "Churn": "No",
         "Contract": "Two year",
         "Dependents": "No",
         "DeviceProtection": "No internet service",
         "InternetService": "No",
         "MonthlyCharges": 20.85,
         "MultipleLines": "No",
         "OnlineBackup": "No internet service",
         "OnlineSecurity": "No internet service",
         "PaperlessBilling": "Yes",
         "Partner": "No",
         "PaymentMethod": "Credit card (automatic)",
         "PhoneService": "Yes",
         "SeniorCitizen": 0,
         "StreamingMovies": "No internet service",
         "StreamingTV": "No internet service",
         "TechSupport": "No internet service",
         "TotalCharges": "435.25",
         "Unnamed: 0": 3171,
         "_deepnote_index_column": 5971,
         "customerID": "8908-SLFCJ",
         "gender": "Female",
         "tenure": 21
        },
        {
         "Churn": "No",
         "Contract": "One year",
         "Dependents": "No",
         "DeviceProtection": "Yes",
         "InternetService": "DSL",
         "MonthlyCharges": 35.35,
         "MultipleLines": "No phone service",
         "OnlineBackup": "No",
         "OnlineSecurity": "Yes",
         "PaperlessBilling": "No",
         "Partner": "Yes",
         "PaymentMethod": "Mailed check",
         "PhoneService": "No",
         "SeniorCitizen": 0,
         "StreamingMovies": "No",
         "StreamingTV": "No",
         "TechSupport": "No",
         "TotalCharges": "1317.95",
         "Unnamed: 0": 3444,
         "_deepnote_index_column": 5972,
         "customerID": "3739-YBWAB",
         "gender": "Male",
         "tenure": 36
        },
        {
         "Churn": "Yes",
         "Contract": "Month-to-month",
         "Dependents": "No",
         "DeviceProtection": "No",
         "InternetService": "Fiber optic",
         "MonthlyCharges": 76.4,
         "MultipleLines": "No",
         "OnlineBackup": "Yes",
         "OnlineSecurity": "No",
         "PaperlessBilling": "Yes",
         "Partner": "Yes",
         "PaymentMethod": "Mailed check",
         "PhoneService": "Yes",
         "SeniorCitizen": 1,
         "StreamingMovies": "No",
         "StreamingTV": "No",
         "TechSupport": "No",
         "TotalCharges": "76.4",
         "Unnamed: 0": 6231,
         "_deepnote_index_column": 5973,
         "customerID": "3296-SILRA",
         "gender": "Female",
         "tenure": 1
        },
        {
         "Churn": "No",
         "Contract": "Two year",
         "Dependents": "Yes",
         "DeviceProtection": "No internet service",
         "InternetService": "No",
         "MonthlyCharges": 20,
         "MultipleLines": "No",
         "OnlineBackup": "No internet service",
         "OnlineSecurity": "No internet service",
         "PaperlessBilling": "No",
         "Partner": "Yes",
         "PaymentMethod": "Mailed check",
         "PhoneService": "Yes",
         "SeniorCitizen": 0,
         "StreamingMovies": "No internet service",
         "StreamingTV": "No internet service",
         "TechSupport": "No internet service",
         "TotalCharges": "833.55",
         "Unnamed: 0": 5578,
         "_deepnote_index_column": 5974,
         "customerID": "8215-NGSPE",
         "gender": "Female",
         "tenure": 42
        },
        {
         "Churn": "No",
         "Contract": "One year",
         "Dependents": "Yes",
         "DeviceProtection": "No",
         "InternetService": "Fiber optic",
         "MonthlyCharges": 79.5,
         "MultipleLines": "Yes",
         "OnlineBackup": "No",
         "OnlineSecurity": "No",
         "PaperlessBilling": "Yes",
         "Partner": "No",
         "PaymentMethod": "Credit card (automatic)",
         "PhoneService": "Yes",
         "SeniorCitizen": 0,
         "StreamingMovies": "No",
         "StreamingTV": "No",
         "TechSupport": "Yes",
         "TotalCharges": "1264.2",
         "Unnamed: 0": 4426,
         "_deepnote_index_column": 5975,
         "customerID": "8652-YHIYU",
         "gender": "Female",
         "tenure": 16
        },
        {
         "Churn": "Yes",
         "Contract": "Two year",
         "Dependents": "Yes",
         "DeviceProtection": "Yes",
         "InternetService": "Fiber optic",
         "MonthlyCharges": 107.95,
         "MultipleLines": "Yes",
         "OnlineBackup": "Yes",
         "OnlineSecurity": "No",
         "PaperlessBilling": "Yes",
         "Partner": "Yes",
         "PaymentMethod": "Bank transfer (automatic)",
         "PhoneService": "Yes",
         "SeniorCitizen": 0,
         "StreamingMovies": "Yes",
         "StreamingTV": "Yes",
         "TechSupport": "Yes",
         "TotalCharges": "5293.2",
         "Unnamed: 0": 5334,
         "_deepnote_index_column": 5976,
         "customerID": "6386-SZZKH",
         "gender": "Female",
         "tenure": 49
        },
        {
         "Churn": "No",
         "Contract": "Two year",
         "Dependents": "No",
         "DeviceProtection": "Yes",
         "InternetService": "Fiber optic",
         "MonthlyCharges": 102.1,
         "MultipleLines": "Yes",
         "OnlineBackup": "No",
         "OnlineSecurity": "No",
         "PaperlessBilling": "No",
         "Partner": "Yes",
         "PaymentMethod": "Electronic check",
         "PhoneService": "Yes",
         "SeniorCitizen": 1,
         "StreamingMovies": "Yes",
         "StreamingTV": "Yes",
         "TechSupport": "Yes",
         "TotalCharges": "6538.45",
         "Unnamed: 0": 466,
         "_deepnote_index_column": 5977,
         "customerID": "9076-AXYIK",
         "gender": "Male",
         "tenure": 64
        },
        {
         "Churn": "No",
         "Contract": "Month-to-month",
         "Dependents": "No",
         "DeviceProtection": "No",
         "InternetService": "DSL",
         "MonthlyCharges": 45.25,
         "MultipleLines": "No",
         "OnlineBackup": "No",
         "OnlineSecurity": "No",
         "PaperlessBilling": "Yes",
         "Partner": "No",
         "PaymentMethod": "Mailed check",
         "PhoneService": "Yes",
         "SeniorCitizen": 0,
         "StreamingMovies": "No",
         "StreamingTV": "No",
         "TechSupport": "No",
         "TotalCharges": "74.2",
         "Unnamed: 0": 6265,
         "_deepnote_index_column": 5978,
         "customerID": "3278-FSIXX",
         "gender": "Female",
         "tenure": 2
        },
        {
         "Churn": "No",
         "Contract": "Two year",
         "Dependents": "Yes",
         "DeviceProtection": "Yes",
         "InternetService": "DSL",
         "MonthlyCharges": 89.4,
         "MultipleLines": "Yes",
         "OnlineBackup": "Yes",
         "OnlineSecurity": "Yes",
         "PaperlessBilling": "Yes",
         "Partner": "Yes",
         "PaymentMethod": "Mailed check",
         "PhoneService": "Yes",
         "SeniorCitizen": 0,
         "StreamingMovies": "Yes",
         "StreamingTV": "Yes",
         "TechSupport": "Yes",
         "TotalCharges": "6376.55",
         "Unnamed: 0": 5734,
         "_deepnote_index_column": 5979,
         "customerID": "6408-WHTEF",
         "gender": "Male",
         "tenure": 72
        },
        {
         "Churn": "Yes",
         "Contract": "Month-to-month",
         "Dependents": "No",
         "DeviceProtection": "No",
         "InternetService": "DSL",
         "MonthlyCharges": 25.1,
         "MultipleLines": "No phone service",
         "OnlineBackup": "No",
         "OnlineSecurity": "No",
         "PaperlessBilling": "Yes",
         "Partner": "No",
         "PaymentMethod": "Mailed check",
         "PhoneService": "No",
         "SeniorCitizen": 0,
         "StreamingMovies": "No",
         "StreamingTV": "No",
         "TechSupport": "No",
         "TotalCharges": "25.1",
         "Unnamed: 0": 3092,
         "_deepnote_index_column": 5980,
         "customerID": "6032-IGALN",
         "gender": "Female",
         "tenure": 1
        },
        {
         "Churn": "Yes",
         "Contract": "Month-to-month",
         "Dependents": "No",
         "DeviceProtection": "No",
         "InternetService": "Fiber optic",
         "MonthlyCharges": 95,
         "MultipleLines": "No",
         "OnlineBackup": "No",
         "OnlineSecurity": "Yes",
         "PaperlessBilling": "Yes",
         "Partner": "Yes",
         "PaymentMethod": "Electronic check",
         "PhoneService": "Yes",
         "SeniorCitizen": 0,
         "StreamingMovies": "Yes",
         "StreamingTV": "Yes",
         "TechSupport": "No",
         "TotalCharges": "95",
         "Unnamed: 0": 3772,
         "_deepnote_index_column": 5981,
         "customerID": "0684-AOSIH",
         "gender": "Male",
         "tenure": 1
        },
        {
         "Churn": "No",
         "Contract": "Two year",
         "Dependents": "Yes",
         "DeviceProtection": "Yes",
         "InternetService": "DSL",
         "MonthlyCharges": 91.1,
         "MultipleLines": "Yes",
         "OnlineBackup": "Yes",
         "OnlineSecurity": "Yes",
         "PaperlessBilling": "Yes",
         "Partner": "Yes",
         "PaymentMethod": "Credit card (automatic)",
         "PhoneService": "Yes",
         "SeniorCitizen": 0,
         "StreamingMovies": "Yes",
         "StreamingTV": "Yes",
         "TechSupport": "Yes",
         "TotalCharges": "2198.3",
         "Unnamed: 0": 5191,
         "_deepnote_index_column": 5982,
         "customerID": "5982-PSMKW",
         "gender": "Female",
         "tenure": 23
        },
        {
         "Churn": "No",
         "Contract": "Month-to-month",
         "Dependents": "Yes",
         "DeviceProtection": "No internet service",
         "InternetService": "No",
         "MonthlyCharges": 21.15,
         "MultipleLines": "No",
         "OnlineBackup": "No internet service",
         "OnlineSecurity": "No internet service",
         "PaperlessBilling": "Yes",
         "Partner": "Yes",
         "PaymentMethod": "Electronic check",
         "PhoneService": "Yes",
         "SeniorCitizen": 0,
         "StreamingMovies": "No internet service",
         "StreamingTV": "No internet service",
         "TechSupport": "No internet service",
         "TotalCharges": "306.05",
         "Unnamed: 0": 5226,
         "_deepnote_index_column": 5983,
         "customerID": "8044-BGWPI",
         "gender": "Male",
         "tenure": 12
        },
        {
         "Churn": "Yes",
         "Contract": "Month-to-month",
         "Dependents": "No",
         "DeviceProtection": "Yes",
         "InternetService": "Fiber optic",
         "MonthlyCharges": 99.45,
         "MultipleLines": "Yes",
         "OnlineBackup": "No",
         "OnlineSecurity": "No",
         "PaperlessBilling": "Yes",
         "Partner": "No",
         "PaymentMethod": "Electronic check",
         "PhoneService": "Yes",
         "SeniorCitizen": 1,
         "StreamingMovies": "Yes",
         "StreamingTV": "Yes",
         "TechSupport": "No",
         "TotalCharges": "1200.15",
         "Unnamed: 0": 5390,
         "_deepnote_index_column": 5984,
         "customerID": "7450-NWRTR",
         "gender": "Male",
         "tenure": 12
        },
        {
         "Churn": "No",
         "Contract": "One year",
         "Dependents": "No",
         "DeviceProtection": "No internet service",
         "InternetService": "No",
         "MonthlyCharges": 19.8,
         "MultipleLines": "No",
         "OnlineBackup": "No internet service",
         "OnlineSecurity": "No internet service",
         "PaperlessBilling": "No",
         "Partner": "No",
         "PaymentMethod": "Credit card (automatic)",
         "PhoneService": "Yes",
         "SeniorCitizen": 0,
         "StreamingMovies": "No internet service",
         "StreamingTV": "No internet service",
         "TechSupport": "No internet service",
         "TotalCharges": "457.3",
         "Unnamed: 0": 860,
         "_deepnote_index_column": 5985,
         "customerID": "4795-UXVCJ",
         "gender": "Male",
         "tenure": 26
        }
       ],
       "rows_top": [
        {
         "Churn": "No",
         "Contract": "Two year",
         "Dependents": "Yes",
         "DeviceProtection": "No internet service",
         "InternetService": "No",
         "MonthlyCharges": 24.1,
         "MultipleLines": "Yes",
         "OnlineBackup": "No internet service",
         "OnlineSecurity": "No internet service",
         "PaperlessBilling": "No",
         "Partner": "Yes",
         "PaymentMethod": "Credit card (automatic)",
         "PhoneService": "Yes",
         "SeniorCitizen": 0,
         "StreamingMovies": "No internet service",
         "StreamingTV": "No internet service",
         "TechSupport": "No internet service",
         "TotalCharges": "1734.65",
         "Unnamed: 0": 1869,
         "_deepnote_index_column": 0,
         "customerID": "7010-BRBUU",
         "gender": "Male",
         "tenure": 72
        },
        {
         "Churn": "No",
         "Contract": "Month-to-month",
         "Dependents": "No",
         "DeviceProtection": "Yes",
         "InternetService": "Fiber optic",
         "MonthlyCharges": 88.15,
         "MultipleLines": "No",
         "OnlineBackup": "Yes",
         "OnlineSecurity": "No",
         "PaperlessBilling": "Yes",
         "Partner": "No",
         "PaymentMethod": "Credit card (automatic)",
         "PhoneService": "Yes",
         "SeniorCitizen": 0,
         "StreamingMovies": "No",
         "StreamingTV": "Yes",
         "TechSupport": "No",
         "TotalCharges": "3973.2",
         "Unnamed: 0": 4528,
         "_deepnote_index_column": 1,
         "customerID": "9688-YGXVR",
         "gender": "Female",
         "tenure": 44
        },
        {
         "Churn": "Yes",
         "Contract": "Month-to-month",
         "Dependents": "No",
         "DeviceProtection": "No",
         "InternetService": "Fiber optic",
         "MonthlyCharges": 74.95,
         "MultipleLines": "Yes",
         "OnlineBackup": "No",
         "OnlineSecurity": "No",
         "PaperlessBilling": "Yes",
         "Partner": "Yes",
         "PaymentMethod": "Bank transfer (automatic)",
         "PhoneService": "Yes",
         "SeniorCitizen": 1,
         "StreamingMovies": "No",
         "StreamingTV": "No",
         "TechSupport": "No",
         "TotalCharges": "2869.85",
         "Unnamed: 0": 6344,
         "_deepnote_index_column": 2,
         "customerID": "9286-DOJGF",
         "gender": "Female",
         "tenure": 38
        },
        {
         "Churn": "No",
         "Contract": "Month-to-month",
         "Dependents": "No",
         "DeviceProtection": "No",
         "InternetService": "DSL",
         "MonthlyCharges": 55.9,
         "MultipleLines": "No",
         "OnlineBackup": "No",
         "OnlineSecurity": "No",
         "PaperlessBilling": "Yes",
         "Partner": "No",
         "PaymentMethod": "Electronic check",
         "PhoneService": "Yes",
         "SeniorCitizen": 0,
         "StreamingMovies": "Yes",
         "StreamingTV": "No",
         "TechSupport": "No",
         "TotalCharges": "238.5",
         "Unnamed: 0": 6739,
         "_deepnote_index_column": 3,
         "customerID": "6994-KERXL",
         "gender": "Male",
         "tenure": 4
        },
        {
         "Churn": "No",
         "Contract": "Month-to-month",
         "Dependents": "No",
         "DeviceProtection": "Yes",
         "InternetService": "DSL",
         "MonthlyCharges": 53.45,
         "MultipleLines": "No",
         "OnlineBackup": "No",
         "OnlineSecurity": "Yes",
         "PaperlessBilling": "No",
         "Partner": "No",
         "PaymentMethod": "Electronic check",
         "PhoneService": "Yes",
         "SeniorCitizen": 0,
         "StreamingMovies": "No",
         "StreamingTV": "No",
         "TechSupport": "No",
         "TotalCharges": "119.5",
         "Unnamed: 0": 432,
         "_deepnote_index_column": 4,
         "customerID": "2181-UAESM",
         "gender": "Male",
         "tenure": 2
        },
        {
         "Churn": "No",
         "Contract": "Two year",
         "Dependents": "No",
         "DeviceProtection": "Yes",
         "InternetService": "DSL",
         "MonthlyCharges": 49.85,
         "MultipleLines": "No phone service",
         "OnlineBackup": "No",
         "OnlineSecurity": "Yes",
         "PaperlessBilling": "Yes",
         "Partner": "Yes",
         "PaymentMethod": "Bank transfer (automatic)",
         "PhoneService": "No",
         "SeniorCitizen": 0,
         "StreamingMovies": "Yes",
         "StreamingTV": "No",
         "TechSupport": "Yes",
         "TotalCharges": "3370.2",
         "Unnamed: 0": 2215,
         "_deepnote_index_column": 5,
         "customerID": "4312-GVYNH",
         "gender": "Female",
         "tenure": 70
        },
        {
         "Churn": "No",
         "Contract": "Month-to-month",
         "Dependents": "No",
         "DeviceProtection": "No",
         "InternetService": "Fiber optic",
         "MonthlyCharges": 90.65,
         "MultipleLines": "Yes",
         "OnlineBackup": "No",
         "OnlineSecurity": "Yes",
         "PaperlessBilling": "Yes",
         "Partner": "No",
         "PaymentMethod": "Electronic check",
         "PhoneService": "Yes",
         "SeniorCitizen": 0,
         "StreamingMovies": "Yes",
         "StreamingTV": "No",
         "TechSupport": "No",
         "TotalCharges": "2989.6",
         "Unnamed: 0": 5260,
         "_deepnote_index_column": 6,
         "customerID": "2495-KZNFB",
         "gender": "Female",
         "tenure": 33
        },
        {
         "Churn": "No",
         "Contract": "Month-to-month",
         "Dependents": "No",
         "DeviceProtection": "No",
         "InternetService": "DSL",
         "MonthlyCharges": 24.9,
         "MultipleLines": "No phone service",
         "OnlineBackup": "No",
         "OnlineSecurity": "No",
         "PaperlessBilling": "Yes",
         "Partner": "No",
         "PaymentMethod": "Mailed check",
         "PhoneService": "No",
         "SeniorCitizen": 0,
         "StreamingMovies": "No",
         "StreamingTV": "No",
         "TechSupport": "No",
         "TotalCharges": "24.9",
         "Unnamed: 0": 6001,
         "_deepnote_index_column": 7,
         "customerID": "4367-NHWMM",
         "gender": "Female",
         "tenure": 1
        },
        {
         "Churn": "No",
         "Contract": "One year",
         "Dependents": "No",
         "DeviceProtection": "Yes",
         "InternetService": "DSL",
         "MonthlyCharges": 35.55,
         "MultipleLines": "No phone service",
         "OnlineBackup": "No",
         "OnlineSecurity": "No",
         "PaperlessBilling": "No",
         "Partner": "No",
         "PaymentMethod": "Mailed check",
         "PhoneService": "No",
         "SeniorCitizen": 0,
         "StreamingMovies": "No",
         "StreamingTV": "No",
         "TechSupport": "Yes",
         "TotalCharges": "1309.15",
         "Unnamed: 0": 1480,
         "_deepnote_index_column": 8,
         "customerID": "8898-KASCD",
         "gender": "Male",
         "tenure": 39
        },
        {
         "Churn": "No",
         "Contract": "Month-to-month",
         "Dependents": "No",
         "DeviceProtection": "Yes",
         "InternetService": "Fiber optic",
         "MonthlyCharges": 116.5,
         "MultipleLines": "Yes",
         "OnlineBackup": "Yes",
         "OnlineSecurity": "Yes",
         "PaperlessBilling": "Yes",
         "Partner": "No",
         "PaymentMethod": "Electronic check",
         "PhoneService": "Yes",
         "SeniorCitizen": 1,
         "StreamingMovies": "Yes",
         "StreamingTV": "Yes",
         "TechSupport": "Yes",
         "TotalCharges": "6382.55",
         "Unnamed: 0": 5137,
         "_deepnote_index_column": 9,
         "customerID": "8016-NCFVO",
         "gender": "Male",
         "tenure": 55
        },
        {
         "Churn": "No",
         "Contract": "One year",
         "Dependents": "Yes",
         "DeviceProtection": "Yes",
         "InternetService": "DSL",
         "MonthlyCharges": 68.75,
         "MultipleLines": "No",
         "OnlineBackup": "Yes",
         "OnlineSecurity": "No",
         "PaperlessBilling": "Yes",
         "Partner": "Yes",
         "PaymentMethod": "Electronic check",
         "PhoneService": "Yes",
         "SeniorCitizen": 0,
         "StreamingMovies": "No",
         "StreamingTV": "Yes",
         "TechSupport": "Yes",
         "TotalCharges": "3482.85",
         "Unnamed: 0": 3169,
         "_deepnote_index_column": 10,
         "customerID": "4578-PHJYZ",
         "gender": "Male",
         "tenure": 52
        },
        {
         "Churn": "Yes",
         "Contract": "Month-to-month",
         "Dependents": "Yes",
         "DeviceProtection": "No",
         "InternetService": "DSL",
         "MonthlyCharges": 51.2,
         "MultipleLines": "No phone service",
         "OnlineBackup": "No",
         "OnlineSecurity": "No",
         "PaperlessBilling": "No",
         "Partner": "Yes",
         "PaymentMethod": "Credit card (automatic)",
         "PhoneService": "No",
         "SeniorCitizen": 0,
         "StreamingMovies": "Yes",
         "StreamingTV": "Yes",
         "TechSupport": "Yes",
         "TotalCharges": "1561.5",
         "Unnamed: 0": 4653,
         "_deepnote_index_column": 11,
         "customerID": "2091-MJTFX",
         "gender": "Female",
         "tenure": 30
        },
        {
         "Churn": "No",
         "Contract": "Month-to-month",
         "Dependents": "No",
         "DeviceProtection": "No",
         "InternetService": "Fiber optic",
         "MonthlyCharges": 99,
         "MultipleLines": "Yes",
         "OnlineBackup": "No",
         "OnlineSecurity": "No",
         "PaperlessBilling": "Yes",
         "Partner": "Yes",
         "PaymentMethod": "Electronic check",
         "PhoneService": "Yes",
         "SeniorCitizen": 1,
         "StreamingMovies": "Yes",
         "StreamingTV": "Yes",
         "TechSupport": "Yes",
         "TotalCharges": "6017.9",
         "Unnamed: 0": 2850,
         "_deepnote_index_column": 12,
         "customerID": "2277-DJJDL",
         "gender": "Male",
         "tenure": 60
        },
        {
         "Churn": "No",
         "Contract": "One year",
         "Dependents": "Yes",
         "DeviceProtection": "Yes",
         "InternetService": "DSL",
         "MonthlyCharges": 54.9,
         "MultipleLines": "Yes",
         "OnlineBackup": "No",
         "OnlineSecurity": "No",
         "PaperlessBilling": "No",
         "Partner": "Yes",
         "PaymentMethod": "Bank transfer (automatic)",
         "PhoneService": "Yes",
         "SeniorCitizen": 0,
         "StreamingMovies": "No",
         "StreamingTV": "No",
         "TechSupport": "No",
         "TotalCharges": "2614.1",
         "Unnamed: 0": 1760,
         "_deepnote_index_column": 13,
         "customerID": "2511-MORQY",
         "gender": "Male",
         "tenure": 50
        },
        {
         "Churn": "No",
         "Contract": "One year",
         "Dependents": "No",
         "DeviceProtection": "Yes",
         "InternetService": "Fiber optic",
         "MonthlyCharges": 109.55,
         "MultipleLines": "Yes",
         "OnlineBackup": "No",
         "OnlineSecurity": "Yes",
         "PaperlessBilling": "Yes",
         "Partner": "No",
         "PaymentMethod": "Bank transfer (automatic)",
         "PhoneService": "Yes",
         "SeniorCitizen": 0,
         "StreamingMovies": "Yes",
         "StreamingTV": "Yes",
         "TechSupport": "Yes",
         "TotalCharges": "3608",
         "Unnamed: 0": 604,
         "_deepnote_index_column": 14,
         "customerID": "2731-GJRDG",
         "gender": "Female",
         "tenure": 32
        },
        {
         "Churn": "No",
         "Contract": "One year",
         "Dependents": "No",
         "DeviceProtection": "Yes",
         "InternetService": "Fiber optic",
         "MonthlyCharges": 106.8,
         "MultipleLines": "Yes",
         "OnlineBackup": "Yes",
         "OnlineSecurity": "No",
         "PaperlessBilling": "Yes",
         "Partner": "Yes",
         "PaymentMethod": "Bank transfer (automatic)",
         "PhoneService": "Yes",
         "SeniorCitizen": 0,
         "StreamingMovies": "Yes",
         "StreamingTV": "Yes",
         "TechSupport": "No",
         "TotalCharges": "5498.8",
         "Unnamed: 0": 2157,
         "_deepnote_index_column": 15,
         "customerID": "1784-EZDKJ",
         "gender": "Male",
         "tenure": 51
        },
        {
         "Churn": "No",
         "Contract": "Month-to-month",
         "Dependents": "No",
         "DeviceProtection": "No",
         "InternetService": "Fiber optic",
         "MonthlyCharges": 74.3,
         "MultipleLines": "No",
         "OnlineBackup": "No",
         "OnlineSecurity": "No",
         "PaperlessBilling": "Yes",
         "Partner": "No",
         "PaymentMethod": "Mailed check",
         "PhoneService": "Yes",
         "SeniorCitizen": 0,
         "StreamingMovies": "No",
         "StreamingTV": "No",
         "TechSupport": "Yes",
         "TotalCharges": "74.3",
         "Unnamed: 0": 3132,
         "_deepnote_index_column": 16,
         "customerID": "2468-SJFLM",
         "gender": "Male",
         "tenure": 1
        },
        {
         "Churn": "No",
         "Contract": "Two year",
         "Dependents": "Yes",
         "DeviceProtection": "No internet service",
         "InternetService": "No",
         "MonthlyCharges": 25.6,
         "MultipleLines": "Yes",
         "OnlineBackup": "No internet service",
         "OnlineSecurity": "No internet service",
         "PaperlessBilling": "Yes",
         "Partner": "Yes",
         "PaymentMethod": "Bank transfer (automatic)",
         "PhoneService": "Yes",
         "SeniorCitizen": 0,
         "StreamingMovies": "No internet service",
         "StreamingTV": "No internet service",
         "TechSupport": "No internet service",
         "TotalCharges": "1673.4",
         "Unnamed: 0": 6765,
         "_deepnote_index_column": 17,
         "customerID": "5115-SQAAU",
         "gender": "Female",
         "tenure": 69
        },
        {
         "Churn": "Yes",
         "Contract": "Month-to-month",
         "Dependents": "Yes",
         "DeviceProtection": "No",
         "InternetService": "Fiber optic",
         "MonthlyCharges": 94.2,
         "MultipleLines": "Yes",
         "OnlineBackup": "No",
         "OnlineSecurity": "No",
         "PaperlessBilling": "Yes",
         "Partner": "Yes",
         "PaymentMethod": "Electronic check",
         "PhoneService": "Yes",
         "SeniorCitizen": 0,
         "StreamingMovies": "Yes",
         "StreamingTV": "Yes",
         "TechSupport": "No",
         "TotalCharges": "4186.3",
         "Unnamed: 0": 6508,
         "_deepnote_index_column": 18,
         "customerID": "8708-XPXHZ",
         "gender": "Female",
         "tenure": 42
        },
        {
         "Churn": "Yes",
         "Contract": "Month-to-month",
         "Dependents": "No",
         "DeviceProtection": "No",
         "InternetService": "DSL",
         "MonthlyCharges": 46.35,
         "MultipleLines": "No phone service",
         "OnlineBackup": "No",
         "OnlineSecurity": "No",
         "PaperlessBilling": "No",
         "Partner": "Yes",
         "PaymentMethod": "Electronic check",
         "PhoneService": "No",
         "SeniorCitizen": 0,
         "StreamingMovies": "Yes",
         "StreamingTV": "Yes",
         "TechSupport": "No",
         "TotalCharges": "667.7",
         "Unnamed: 0": 5636,
         "_deepnote_index_column": 19,
         "customerID": "0601-WZHJF",
         "gender": "Male",
         "tenure": 14
        },
        {
         "Churn": "No",
         "Contract": "Two year",
         "Dependents": "Yes",
         "DeviceProtection": "No internet service",
         "InternetService": "No",
         "MonthlyCharges": 25.6,
         "MultipleLines": "Yes",
         "OnlineBackup": "No internet service",
         "OnlineSecurity": "No internet service",
         "PaperlessBilling": "No",
         "Partner": "No",
         "PaymentMethod": "Credit card (automatic)",
         "PhoneService": "Yes",
         "SeniorCitizen": 0,
         "StreamingMovies": "No internet service",
         "StreamingTV": "No internet service",
         "TechSupport": "No internet service",
         "TotalCharges": "1334.5",
         "Unnamed: 0": 4693,
         "_deepnote_index_column": 20,
         "customerID": "0463-TXOAK",
         "gender": "Male",
         "tenure": 52
        },
        {
         "Churn": "No",
         "Contract": "Two year",
         "Dependents": "No",
         "DeviceProtection": "Yes",
         "InternetService": "Fiber optic",
         "MonthlyCharges": 107.6,
         "MultipleLines": "Yes",
         "OnlineBackup": "No",
         "OnlineSecurity": "No",
         "PaperlessBilling": "Yes",
         "Partner": "Yes",
         "PaymentMethod": "Bank transfer (automatic)",
         "PhoneService": "Yes",
         "SeniorCitizen": 0,
         "StreamingMovies": "Yes",
         "StreamingTV": "Yes",
         "TechSupport": "Yes",
         "TotalCharges": "6912.7",
         "Unnamed: 0": 3393,
         "_deepnote_index_column": 21,
         "customerID": "4683-WYDOU",
         "gender": "Male",
         "tenure": 62
        }
       ]
      },
      "text/html": [
       "<div>\n",
       "<style scoped>\n",
       "    .dataframe tbody tr th:only-of-type {\n",
       "        vertical-align: middle;\n",
       "    }\n",
       "\n",
       "    .dataframe tbody tr th {\n",
       "        vertical-align: top;\n",
       "    }\n",
       "\n",
       "    .dataframe thead th {\n",
       "        text-align: right;\n",
       "    }\n",
       "</style>\n",
       "<table border=\"1\" class=\"dataframe\">\n",
       "  <thead>\n",
       "    <tr style=\"text-align: right;\">\n",
       "      <th></th>\n",
       "      <th>Unnamed: 0</th>\n",
       "      <th>customerID</th>\n",
       "      <th>gender</th>\n",
       "      <th>SeniorCitizen</th>\n",
       "      <th>Partner</th>\n",
       "      <th>Dependents</th>\n",
       "      <th>tenure</th>\n",
       "      <th>PhoneService</th>\n",
       "      <th>MultipleLines</th>\n",
       "      <th>InternetService</th>\n",
       "      <th>...</th>\n",
       "      <th>DeviceProtection</th>\n",
       "      <th>TechSupport</th>\n",
       "      <th>StreamingTV</th>\n",
       "      <th>StreamingMovies</th>\n",
       "      <th>Contract</th>\n",
       "      <th>PaperlessBilling</th>\n",
       "      <th>PaymentMethod</th>\n",
       "      <th>MonthlyCharges</th>\n",
       "      <th>TotalCharges</th>\n",
       "      <th>Churn</th>\n",
       "    </tr>\n",
       "  </thead>\n",
       "  <tbody>\n",
       "    <tr>\n",
       "      <th>0</th>\n",
       "      <td>1869</td>\n",
       "      <td>7010-BRBUU</td>\n",
       "      <td>Male</td>\n",
       "      <td>0</td>\n",
       "      <td>Yes</td>\n",
       "      <td>Yes</td>\n",
       "      <td>72</td>\n",
       "      <td>Yes</td>\n",
       "      <td>Yes</td>\n",
       "      <td>No</td>\n",
       "      <td>...</td>\n",
       "      <td>No internet service</td>\n",
       "      <td>No internet service</td>\n",
       "      <td>No internet service</td>\n",
       "      <td>No internet service</td>\n",
       "      <td>Two year</td>\n",
       "      <td>No</td>\n",
       "      <td>Credit card (automatic)</td>\n",
       "      <td>24.10</td>\n",
       "      <td>1734.65</td>\n",
       "      <td>No</td>\n",
       "    </tr>\n",
       "    <tr>\n",
       "      <th>1</th>\n",
       "      <td>4528</td>\n",
       "      <td>9688-YGXVR</td>\n",
       "      <td>Female</td>\n",
       "      <td>0</td>\n",
       "      <td>No</td>\n",
       "      <td>No</td>\n",
       "      <td>44</td>\n",
       "      <td>Yes</td>\n",
       "      <td>No</td>\n",
       "      <td>Fiber optic</td>\n",
       "      <td>...</td>\n",
       "      <td>Yes</td>\n",
       "      <td>No</td>\n",
       "      <td>Yes</td>\n",
       "      <td>No</td>\n",
       "      <td>Month-to-month</td>\n",
       "      <td>Yes</td>\n",
       "      <td>Credit card (automatic)</td>\n",
       "      <td>88.15</td>\n",
       "      <td>3973.2</td>\n",
       "      <td>No</td>\n",
       "    </tr>\n",
       "    <tr>\n",
       "      <th>2</th>\n",
       "      <td>6344</td>\n",
       "      <td>9286-DOJGF</td>\n",
       "      <td>Female</td>\n",
       "      <td>1</td>\n",
       "      <td>Yes</td>\n",
       "      <td>No</td>\n",
       "      <td>38</td>\n",
       "      <td>Yes</td>\n",
       "      <td>Yes</td>\n",
       "      <td>Fiber optic</td>\n",
       "      <td>...</td>\n",
       "      <td>No</td>\n",
       "      <td>No</td>\n",
       "      <td>No</td>\n",
       "      <td>No</td>\n",
       "      <td>Month-to-month</td>\n",
       "      <td>Yes</td>\n",
       "      <td>Bank transfer (automatic)</td>\n",
       "      <td>74.95</td>\n",
       "      <td>2869.85</td>\n",
       "      <td>Yes</td>\n",
       "    </tr>\n",
       "    <tr>\n",
       "      <th>3</th>\n",
       "      <td>6739</td>\n",
       "      <td>6994-KERXL</td>\n",
       "      <td>Male</td>\n",
       "      <td>0</td>\n",
       "      <td>No</td>\n",
       "      <td>No</td>\n",
       "      <td>4</td>\n",
       "      <td>Yes</td>\n",
       "      <td>No</td>\n",
       "      <td>DSL</td>\n",
       "      <td>...</td>\n",
       "      <td>No</td>\n",
       "      <td>No</td>\n",
       "      <td>No</td>\n",
       "      <td>Yes</td>\n",
       "      <td>Month-to-month</td>\n",
       "      <td>Yes</td>\n",
       "      <td>Electronic check</td>\n",
       "      <td>55.90</td>\n",
       "      <td>238.5</td>\n",
       "      <td>No</td>\n",
       "    </tr>\n",
       "    <tr>\n",
       "      <th>4</th>\n",
       "      <td>432</td>\n",
       "      <td>2181-UAESM</td>\n",
       "      <td>Male</td>\n",
       "      <td>0</td>\n",
       "      <td>No</td>\n",
       "      <td>No</td>\n",
       "      <td>2</td>\n",
       "      <td>Yes</td>\n",
       "      <td>No</td>\n",
       "      <td>DSL</td>\n",
       "      <td>...</td>\n",
       "      <td>Yes</td>\n",
       "      <td>No</td>\n",
       "      <td>No</td>\n",
       "      <td>No</td>\n",
       "      <td>Month-to-month</td>\n",
       "      <td>No</td>\n",
       "      <td>Electronic check</td>\n",
       "      <td>53.45</td>\n",
       "      <td>119.5</td>\n",
       "      <td>No</td>\n",
       "    </tr>\n",
       "    <tr>\n",
       "      <th>...</th>\n",
       "      <td>...</td>\n",
       "      <td>...</td>\n",
       "      <td>...</td>\n",
       "      <td>...</td>\n",
       "      <td>...</td>\n",
       "      <td>...</td>\n",
       "      <td>...</td>\n",
       "      <td>...</td>\n",
       "      <td>...</td>\n",
       "      <td>...</td>\n",
       "      <td>...</td>\n",
       "      <td>...</td>\n",
       "      <td>...</td>\n",
       "      <td>...</td>\n",
       "      <td>...</td>\n",
       "      <td>...</td>\n",
       "      <td>...</td>\n",
       "      <td>...</td>\n",
       "      <td>...</td>\n",
       "      <td>...</td>\n",
       "      <td>...</td>\n",
       "    </tr>\n",
       "    <tr>\n",
       "      <th>5981</th>\n",
       "      <td>3772</td>\n",
       "      <td>0684-AOSIH</td>\n",
       "      <td>Male</td>\n",
       "      <td>0</td>\n",
       "      <td>Yes</td>\n",
       "      <td>No</td>\n",
       "      <td>1</td>\n",
       "      <td>Yes</td>\n",
       "      <td>No</td>\n",
       "      <td>Fiber optic</td>\n",
       "      <td>...</td>\n",
       "      <td>No</td>\n",
       "      <td>No</td>\n",
       "      <td>Yes</td>\n",
       "      <td>Yes</td>\n",
       "      <td>Month-to-month</td>\n",
       "      <td>Yes</td>\n",
       "      <td>Electronic check</td>\n",
       "      <td>95.00</td>\n",
       "      <td>95</td>\n",
       "      <td>Yes</td>\n",
       "    </tr>\n",
       "    <tr>\n",
       "      <th>5982</th>\n",
       "      <td>5191</td>\n",
       "      <td>5982-PSMKW</td>\n",
       "      <td>Female</td>\n",
       "      <td>0</td>\n",
       "      <td>Yes</td>\n",
       "      <td>Yes</td>\n",
       "      <td>23</td>\n",
       "      <td>Yes</td>\n",
       "      <td>Yes</td>\n",
       "      <td>DSL</td>\n",
       "      <td>...</td>\n",
       "      <td>Yes</td>\n",
       "      <td>Yes</td>\n",
       "      <td>Yes</td>\n",
       "      <td>Yes</td>\n",
       "      <td>Two year</td>\n",
       "      <td>Yes</td>\n",
       "      <td>Credit card (automatic)</td>\n",
       "      <td>91.10</td>\n",
       "      <td>2198.3</td>\n",
       "      <td>No</td>\n",
       "    </tr>\n",
       "    <tr>\n",
       "      <th>5983</th>\n",
       "      <td>5226</td>\n",
       "      <td>8044-BGWPI</td>\n",
       "      <td>Male</td>\n",
       "      <td>0</td>\n",
       "      <td>Yes</td>\n",
       "      <td>Yes</td>\n",
       "      <td>12</td>\n",
       "      <td>Yes</td>\n",
       "      <td>No</td>\n",
       "      <td>No</td>\n",
       "      <td>...</td>\n",
       "      <td>No internet service</td>\n",
       "      <td>No internet service</td>\n",
       "      <td>No internet service</td>\n",
       "      <td>No internet service</td>\n",
       "      <td>Month-to-month</td>\n",
       "      <td>Yes</td>\n",
       "      <td>Electronic check</td>\n",
       "      <td>21.15</td>\n",
       "      <td>306.05</td>\n",
       "      <td>No</td>\n",
       "    </tr>\n",
       "    <tr>\n",
       "      <th>5984</th>\n",
       "      <td>5390</td>\n",
       "      <td>7450-NWRTR</td>\n",
       "      <td>Male</td>\n",
       "      <td>1</td>\n",
       "      <td>No</td>\n",
       "      <td>No</td>\n",
       "      <td>12</td>\n",
       "      <td>Yes</td>\n",
       "      <td>Yes</td>\n",
       "      <td>Fiber optic</td>\n",
       "      <td>...</td>\n",
       "      <td>Yes</td>\n",
       "      <td>No</td>\n",
       "      <td>Yes</td>\n",
       "      <td>Yes</td>\n",
       "      <td>Month-to-month</td>\n",
       "      <td>Yes</td>\n",
       "      <td>Electronic check</td>\n",
       "      <td>99.45</td>\n",
       "      <td>1200.15</td>\n",
       "      <td>Yes</td>\n",
       "    </tr>\n",
       "    <tr>\n",
       "      <th>5985</th>\n",
       "      <td>860</td>\n",
       "      <td>4795-UXVCJ</td>\n",
       "      <td>Male</td>\n",
       "      <td>0</td>\n",
       "      <td>No</td>\n",
       "      <td>No</td>\n",
       "      <td>26</td>\n",
       "      <td>Yes</td>\n",
       "      <td>No</td>\n",
       "      <td>No</td>\n",
       "      <td>...</td>\n",
       "      <td>No internet service</td>\n",
       "      <td>No internet service</td>\n",
       "      <td>No internet service</td>\n",
       "      <td>No internet service</td>\n",
       "      <td>One year</td>\n",
       "      <td>No</td>\n",
       "      <td>Credit card (automatic)</td>\n",
       "      <td>19.80</td>\n",
       "      <td>457.3</td>\n",
       "      <td>No</td>\n",
       "    </tr>\n",
       "  </tbody>\n",
       "</table>\n",
       "<p>5986 rows × 22 columns</p>\n",
       "</div>"
      ],
      "text/plain": [
       "      Unnamed: 0  customerID  gender  SeniorCitizen Partner Dependents  \\\n",
       "0           1869  7010-BRBUU    Male              0     Yes        Yes   \n",
       "1           4528  9688-YGXVR  Female              0      No         No   \n",
       "2           6344  9286-DOJGF  Female              1     Yes         No   \n",
       "3           6739  6994-KERXL    Male              0      No         No   \n",
       "4            432  2181-UAESM    Male              0      No         No   \n",
       "...          ...         ...     ...            ...     ...        ...   \n",
       "5981        3772  0684-AOSIH    Male              0     Yes         No   \n",
       "5982        5191  5982-PSMKW  Female              0     Yes        Yes   \n",
       "5983        5226  8044-BGWPI    Male              0     Yes        Yes   \n",
       "5984        5390  7450-NWRTR    Male              1      No         No   \n",
       "5985         860  4795-UXVCJ    Male              0      No         No   \n",
       "\n",
       "      tenure PhoneService MultipleLines InternetService  ...  \\\n",
       "0         72          Yes           Yes              No  ...   \n",
       "1         44          Yes            No     Fiber optic  ...   \n",
       "2         38          Yes           Yes     Fiber optic  ...   \n",
       "3          4          Yes            No             DSL  ...   \n",
       "4          2          Yes            No             DSL  ...   \n",
       "...      ...          ...           ...             ...  ...   \n",
       "5981       1          Yes            No     Fiber optic  ...   \n",
       "5982      23          Yes           Yes             DSL  ...   \n",
       "5983      12          Yes            No              No  ...   \n",
       "5984      12          Yes           Yes     Fiber optic  ...   \n",
       "5985      26          Yes            No              No  ...   \n",
       "\n",
       "         DeviceProtection          TechSupport          StreamingTV  \\\n",
       "0     No internet service  No internet service  No internet service   \n",
       "1                     Yes                   No                  Yes   \n",
       "2                      No                   No                   No   \n",
       "3                      No                   No                   No   \n",
       "4                     Yes                   No                   No   \n",
       "...                   ...                  ...                  ...   \n",
       "5981                   No                   No                  Yes   \n",
       "5982                  Yes                  Yes                  Yes   \n",
       "5983  No internet service  No internet service  No internet service   \n",
       "5984                  Yes                   No                  Yes   \n",
       "5985  No internet service  No internet service  No internet service   \n",
       "\n",
       "          StreamingMovies        Contract PaperlessBilling  \\\n",
       "0     No internet service        Two year               No   \n",
       "1                      No  Month-to-month              Yes   \n",
       "2                      No  Month-to-month              Yes   \n",
       "3                     Yes  Month-to-month              Yes   \n",
       "4                      No  Month-to-month               No   \n",
       "...                   ...             ...              ...   \n",
       "5981                  Yes  Month-to-month              Yes   \n",
       "5982                  Yes        Two year              Yes   \n",
       "5983  No internet service  Month-to-month              Yes   \n",
       "5984                  Yes  Month-to-month              Yes   \n",
       "5985  No internet service        One year               No   \n",
       "\n",
       "                  PaymentMethod MonthlyCharges TotalCharges  Churn  \n",
       "0       Credit card (automatic)          24.10      1734.65     No  \n",
       "1       Credit card (automatic)          88.15       3973.2     No  \n",
       "2     Bank transfer (automatic)          74.95      2869.85    Yes  \n",
       "3              Electronic check          55.90        238.5     No  \n",
       "4              Electronic check          53.45        119.5     No  \n",
       "...                         ...            ...          ...    ...  \n",
       "5981           Electronic check          95.00           95    Yes  \n",
       "5982    Credit card (automatic)          91.10       2198.3     No  \n",
       "5983           Electronic check          21.15       306.05     No  \n",
       "5984           Electronic check          99.45      1200.15    Yes  \n",
       "5985    Credit card (automatic)          19.80        457.3     No  \n",
       "\n",
       "[5986 rows x 22 columns]"
      ]
     },
     "execution_count": 3,
     "metadata": {},
     "output_type": "execute_result"
    }
   ],
   "source": [
    "df= pd.read_csv(\"telecom_users.csv\")\n",
    "df"
   ]
  },
  {
   "cell_type": "code",
   "execution_count": null,
   "metadata": {
    "cell_id": "00003-5eda878c-97bf-4ee9-a3c8-be74d53205dc",
    "deepnote_cell_type": "code",
    "deepnote_to_be_reexecuted": false,
    "execution_millis": 5415,
    "execution_start": 1615988314772,
    "source_hash": "317a028e",
    "tags": []
   },
   "outputs": [
    {
     "name": "stdout",
     "output_type": "stream",
     "text": [
      "Spark CPU usage : 2\n"
     ]
    }
   ],
   "source": [
    "# create SparkSession\n",
    "\n",
    "spark = SparkSession.builder.master(\"local[*]\") \\\n",
    "                    .appName('SparkTelecom') \\\n",
    "                    .getOrCreate()\n",
    "\n",
    "# extract SparkContext\n",
    "sc = spark.sparkContext\n",
    "\n",
    "print('Spark CPU usage :', sc.defaultParallelism)"
   ]
  },
  {
   "cell_type": "code",
   "execution_count": null,
   "metadata": {
    "cell_id": "00004-61e610da-88c1-4aff-a606-853114ef03f6",
    "deepnote_cell_type": "code",
    "deepnote_to_be_reexecuted": false,
    "execution_millis": 665,
    "execution_start": 1615988561350,
    "source_hash": "3a3a6271",
    "tags": []
   },
   "outputs": [
    {
     "name": "stdout",
     "output_type": "stream",
     "text": [
      "+----------+----------+------+-------------+-------+----------+------+------------+-------------+---------------+---------------+-------------------+-------------------+-------------------+-------------------+-------------------+--------------+----------------+--------------------+--------------+------------+-----+\n",
      "|Unnamed: 0|customerID|gender|SeniorCitizen|Partner|Dependents|tenure|PhoneService|MultipleLines|InternetService|OnlineSecurity |       OnlineBackup|   DeviceProtection|        TechSupport|        StreamingTV|    StreamingMovies|      Contract|PaperlessBilling|       PaymentMethod|MonthlyCharges|TotalCharges|Churn|\n",
      "+----------+----------+------+-------------+-------+----------+------+------------+-------------+---------------+---------------+-------------------+-------------------+-------------------+-------------------+-------------------+--------------+----------------+--------------------+--------------+------------+-----+\n",
      "|      1869|7010-BRBUU|  Male|            0|    Yes|       Yes|    72|         Yes|          Yes|           null|           null|No internet service|No internet service|No internet service|No internet service|No internet service|      Two year|              No|Credit card (auto...|          24.1|     1734.65|   No|\n",
      "|      4528|9688-YGXVR|Female|            0|     No|        No|    44|         Yes|           No|           null|           null|                Yes|                Yes|                 No|                Yes|                 No|Month-to-month|             Yes|Credit card (auto...|         88.15|      3973.2|   No|\n",
      "+----------+----------+------+-------------+-------+----------+------+------------+-------------+---------------+---------------+-------------------+-------------------+-------------------+-------------------+-------------------+--------------+----------------+--------------------+--------------+------------+-----+\n",
      "only showing top 2 rows\n",
      "\n",
      "root\n",
      " |-- Unnamed: 0: integer (nullable = true)\n",
      " |-- customerID: string (nullable = true)\n",
      " |-- gender: string (nullable = true)\n",
      " |-- SeniorCitizen: integer (nullable = true)\n",
      " |-- Partner: string (nullable = true)\n",
      " |-- Dependents: string (nullable = true)\n",
      " |-- tenure: integer (nullable = true)\n",
      " |-- PhoneService: string (nullable = true)\n",
      " |-- MultipleLines: string (nullable = true)\n",
      " |-- InternetService: double (nullable = true)\n",
      " |-- OnlineSecurity : double (nullable = true)\n",
      " |-- OnlineBackup: string (nullable = true)\n",
      " |-- DeviceProtection: string (nullable = true)\n",
      " |-- TechSupport: string (nullable = true)\n",
      " |-- StreamingTV: string (nullable = true)\n",
      " |-- StreamingMovies: string (nullable = true)\n",
      " |-- Contract: string (nullable = true)\n",
      " |-- PaperlessBilling: string (nullable = true)\n",
      " |-- PaymentMethod: string (nullable = true)\n",
      " |-- MonthlyCharges: double (nullable = true)\n",
      " |-- TotalCharges: double (nullable = true)\n",
      " |-- Churn: string (nullable = true)\n",
      "\n"
     ]
    }
   ],
   "source": [
    "schema = StructType() \\\n",
    "   .add(\"Unnamed: 0\",IntegerType(),True) \\\n",
    "   .add(\"customerID\",StringType(),True) \\\n",
    "   .add(\"gender\",StringType(),True) \\\n",
    "   .add(\"SeniorCitizen\",IntegerType(),True) \\\n",
    "   .add(\"Partner\",StringType(),True) \\\n",
    "   .add(\"Dependents\",StringType(),True) \\\n",
    "   .add(\"tenure\",IntegerType(),True) \\\n",
    "   .add(\"PhoneService\",StringType(),True) \\\n",
    "   .add(\"MultipleLines\",StringType(),True) \\\n",
    "   .add(\"InternetService\",DoubleType(),True) \\\n",
    "   .add(\"OnlineSecurity \",DoubleType(),True) \\\n",
    "   .add(\"OnlineBackup\",StringType(),True) \\\n",
    "   .add(\"DeviceProtection\",StringType(),True) \\\n",
    "   .add(\"TechSupport\",StringType(),True) \\\n",
    "   .add(\"StreamingTV\",StringType(),True) \\\n",
    "   .add(\"StreamingMovies\",StringType(),True) \\\n",
    "   .add(\"Contract\",StringType(),True) \\\n",
    "   .add(\"PaperlessBilling\",StringType(),True) \\\n",
    "   .add(\"PaymentMethod\",StringType(),True) \\\n",
    "   .add(\"MonthlyCharges\",DoubleType(),True) \\\n",
    "   .add(\"TotalCharges\",DoubleType(),True) \\\n",
    "   .add(\"Churn\",StringType(),True) \n",
    "\n",
    "df = spark.read.option(\"delimiter\", \",\").option(\"header\", True).schema(schema).csv(\"telecom_users.csv\")\n",
    "df.show(2)\n",
    "df.printSchema()\n",
    "df.createOrReplaceTempView(\"TELECOM_USERS\")\n",
    "\n"
   ]
  },
  {
   "cell_type": "code",
   "execution_count": null,
   "metadata": {
    "cell_id": "00009-02ccc83c-b2bf-42da-85af-4e6c0c195d48",
    "deepnote_cell_type": "code",
    "deepnote_to_be_reexecuted": false,
    "execution_millis": 4780,
    "execution_start": 1615988579710,
    "source_hash": "c0abc7db",
    "tags": []
   },
   "outputs": [
    {
     "name": "stdout",
     "output_type": "stream",
     "text": [
      "   gender  Total_Gender\n",
      "0    Male          3050\n",
      "1  Female          2936\n"
     ]
    },
    {
     "data": {
      "image/png": "[encoded data removed]",
      "text/plain": [
       "<Figure size 432x288 with 1 Axes>"
      ]
     },
     "metadata": {
      "needs_background": "light"
     },
     "output_type": "display_data"
    }
   ],
   "source": [
    "gender = spark.sql(\"SELECT gender, COUNT(*) AS Total_Gender FROM TELECOM_USERS GROUP BY 1 ORDER BY 2 DESC\")\n",
    "\n",
    "pandasDF_gender = gender.toPandas()\n",
    "print(pandasDF_gender)\n",
    "\n",
    "sns.barplot(x=pandasDF_gender['gender'], y=pandasDF_gender['Total_Gender'])\n",
    "plt.draw()\n"
   ]
  },
  {
   "cell_type": "code",
   "execution_count": null,
   "metadata": {
    "cell_id": "00010-1db28d97-295b-4d57-a51f-5df0132f2c03",
    "deepnote_cell_type": "code",
    "deepnote_to_be_reexecuted": false,
    "execution_millis": 357,
    "execution_start": 1615988584455,
    "source_hash": "3eed491b",
    "tags": []
   },
   "outputs": [
    {
     "name": "stdout",
     "output_type": "stream",
     "text": [
      "+-----------------+\n",
      "|TOTAL_UTILISATEUR|\n",
      "+-----------------+\n",
      "|             5986|\n",
      "+-----------------+\n",
      "\n"
     ]
    }
   ],
   "source": [
    "Total_user = spark.sql('SELECT COUNT(*) AS TOTAL_UTILISATEUR FROM TELECOM_USERS')\n",
    "Total_user.show()"
   ]
  },
  {
   "cell_type": "code",
   "execution_count": null,
   "metadata": {
    "cell_id": "00011-c0404989-6f7e-4886-a0d9-2d53ca750460",
    "deepnote_cell_type": "code",
    "deepnote_to_be_reexecuted": false,
    "execution_millis": 826,
    "execution_start": 1615988585542,
    "source_hash": "4ec4ef7",
    "tags": []
   },
   "outputs": [
    {
     "name": "stdout",
     "output_type": "stream",
     "text": [
      "+------------+\n",
      "|With_partner|\n",
      "+------------+\n",
      "|        2904|\n",
      "+------------+\n",
      "\n",
      "+--------------+\n",
      "|NO_ONE_partner|\n",
      "+--------------+\n",
      "|          3082|\n",
      "+--------------+\n",
      "\n"
     ]
    }
   ],
   "source": [
    "Partner_yes_users = spark.sql('SELECT COUNT(*) AS With_partner FROM TELECOM_USERS WHERE Partner LIKE \"Y%\"')\n",
    "Partner_yes_users.show()\n",
    "\n",
    "Partner_no_users = spark.sql('SELECT COUNT(*) AS NO_ONE_partner FROM TELECOM_USERS WHERE Partner LIKE \"N%\"')\n",
    "Partner_no_users.show()\n",
    "\n",
    "#Partners = spark.sql('( SELECT COUNT(*) AS With_partner FROM TELECOM_USERS WHERE Partner LIKE \"Y%\" ) UNION DISTINCT ( SELECT COUNT(*) AS NO_ONE_partner FROM TELECOM_USERS WHERE Partner LIKE \"N%\" )')\n",
    "#Partners.show()"
   ]
  },
  {
   "cell_type": "code",
   "execution_count": null,
   "metadata": {
    "cell_id": "00012-054e9092-ef9e-407c-89c6-21dc828ef230",
    "deepnote_cell_type": "code",
    "deepnote_to_be_reexecuted": false,
    "execution_millis": 369,
    "execution_start": 1615988588199,
    "source_hash": "c5c39904",
    "tags": []
   },
   "outputs": [
    {
     "name": "stdout",
     "output_type": "stream",
     "text": [
      "+------------------+\n",
      "|MOYENNE_ABONNEMENT|\n",
      "+------------------+\n",
      "|             32.47|\n",
      "+------------------+\n",
      "\n"
     ]
    }
   ],
   "source": [
    "moyenne_abonnement = spark.sql('SELECT ROUND(SUM(tenure)/COUNT(*), 2) AS MOYENNE_ABONNEMENT FROM TELECOM_USERS')\n",
    "moyenne_abonnement.show()"
   ]
  },
  {
   "cell_type": "code",
   "execution_count": null,
   "metadata": {
    "cell_id": "00013-9acc4a3a-9a0a-4297-884d-7a854c555705",
    "deepnote_cell_type": "code",
    "deepnote_to_be_reexecuted": false,
    "execution_millis": 2154,
    "execution_start": 1615988589399,
    "source_hash": "d90890d2",
    "tags": []
   },
   "outputs": [
    {
     "name": "stdout",
     "output_type": "stream",
     "text": [
      "+------+--------------------------+\n",
      "|gender|MOYENNE_ABONNEMENT_BY_SEXE|\n",
      "+------+--------------------------+\n",
      "|Female|                     32.39|\n",
      "|  Male|                     32.55|\n",
      "+------+--------------------------+\n",
      "\n"
     ]
    }
   ],
   "source": [
    "moyenne_abonnement_by_gender = spark.sql('SELECT gender, ROUND(SUM(tenure)/COUNT(*), 2) AS MOYENNE_ABONNEMENT_BY_SEXE FROM TELECOM_USERS GROUP BY gender')\n",
    "moyenne_abonnement_by_gender.show()"
   ]
  },
  {
   "cell_type": "code",
   "execution_count": null,
   "metadata": {
    "cell_id": "00014-1c365a22-ad33-4c3c-9dc3-d4357384fe18",
    "deepnote_cell_type": "code",
    "deepnote_to_be_reexecuted": false,
    "execution_millis": 1731,
    "execution_start": 1615988639425,
    "source_hash": "522cfd0",
    "tags": []
   },
   "outputs": [
    {
     "name": "stdout",
     "output_type": "stream",
     "text": [
      "+------+\n",
      "|tenure|\n",
      "+------+\n",
      "|    72|\n",
      "|    71|\n",
      "|    70|\n",
      "|    69|\n",
      "|    68|\n",
      "|    67|\n",
      "|    66|\n",
      "|    65|\n",
      "|    64|\n",
      "|    63|\n",
      "|    62|\n",
      "|    61|\n",
      "|    60|\n",
      "|    59|\n",
      "|    58|\n",
      "|    57|\n",
      "|    56|\n",
      "|    55|\n",
      "|    54|\n",
      "|    53|\n",
      "+------+\n",
      "only showing top 20 rows\n",
      "\n"
     ]
    }
   ],
   "source": [
    "# Stats sur la 'tenure' et 'MonthlyCharges'\n",
    "tenureCharges = spark.sql('SELECT DISTINCT tenure FROM TELECOM_USERS ORDER BY tenure DESC')\n",
    "tenureCharges.show()"
   ]
  },
  {
   "cell_type": "code",
   "execution_count": null,
   "metadata": {
    "cell_id": "00015-1efe8cbc-d331-4aa9-9781-477b3200bf8b",
    "deepnote_cell_type": "code",
    "deepnote_to_be_reexecuted": false,
    "execution_millis": 436,
    "execution_start": 1615988596269,
    "source_hash": "6c0864be",
    "tags": []
   },
   "outputs": [
    {
     "name": "stdout",
     "output_type": "stream",
     "text": [
      "+----------+----------+------+-------------+-------+----------+------+------------+-------------+---------------+---------------+-------------------+-------------------+-------------------+-------------------+-------------------+--------+----------------+--------------------+--------------+------------+-----+\n",
      "|Unnamed: 0|customerID|gender|SeniorCitizen|Partner|Dependents|tenure|PhoneService|MultipleLines|InternetService|OnlineSecurity |       OnlineBackup|   DeviceProtection|        TechSupport|        StreamingTV|    StreamingMovies|Contract|PaperlessBilling|       PaymentMethod|MonthlyCharges|TotalCharges|Churn|\n",
      "+----------+----------+------+-------------+-------+----------+------+------------+-------------+---------------+---------------+-------------------+-------------------+-------------------+-------------------+-------------------+--------+----------------+--------------------+--------------+------------+-----+\n",
      "|      1869|7010-BRBUU|  Male|            0|    Yes|       Yes|    72|         Yes|          Yes|           null|           null|No internet service|No internet service|No internet service|No internet service|No internet service|Two year|              No|Credit card (auto...|          24.1|     1734.65|   No|\n",
      "|      4201|1166-PQLGG|Female|            0|    Yes|       Yes|    72|         Yes|           No|           null|           null|No internet service|No internet service|No internet service|No internet service|No internet service|Two year|              No|Bank transfer (au...|         19.55|     1463.45|   No|\n",
      "|      5419|7173-TETGO|Female|            1|    Yes|        No|    72|         Yes|          Yes|           null|           null|                 No|                 No|                 No|                 No|                 No|Two year|              No|Bank transfer (au...|          78.5|     5602.25|   No|\n",
      "|      3984|5884-FBCTL|Female|            0|    Yes|       Yes|    72|         Yes|          Yes|           null|           null|No internet service|No internet service|No internet service|No internet service|No internet service|Two year|              No|Bank transfer (au...|          25.1|     1857.85|   No|\n",
      "|      4914|0562-FGDCR|Female|            0|    Yes|       Yes|    72|         Yes|          Yes|           null|           null|                Yes|                 No|                Yes|                Yes|                 No|Two year|              No|        Mailed check|         74.55|     5430.65|   No|\n",
      "+----------+----------+------+-------------+-------+----------+------+------------+-------------+---------------+---------------+-------------------+-------------------+-------------------+-------------------+-------------------+--------+----------------+--------------------+--------------+------------+-----+\n",
      "\n"
     ]
    }
   ],
   "source": [
    "Plus_ancien = spark.sql('SELECT * FROM TELECOM_USERS ORDER BY tenure DESC LIMIT 5')\n",
    "Plus_ancien.show()"
   ]
  },
  {
   "cell_type": "code",
   "execution_count": null,
   "metadata": {
    "cell_id": "00014-832b9bfa-5dba-4fa2-abaf-b300e8d689a4",
    "deepnote_cell_type": "code",
    "deepnote_to_be_reexecuted": false,
    "execution_millis": 408,
    "execution_start": 1615988794857,
    "source_hash": "1c2d5b74",
    "tags": []
   },
   "outputs": [
    {
     "name": "stdout",
     "output_type": "stream",
     "text": [
      "+----------+----------+------+-------------+-------+----------+------+------------+----------------+---------------+---------------+-------------------+-------------------+-------------------+-------------------+-------------------+--------+----------------+--------------------+--------------+------------+-----+\n",
      "|Unnamed: 0|customerID|gender|SeniorCitizen|Partner|Dependents|tenure|PhoneService|   MultipleLines|InternetService|OnlineSecurity |       OnlineBackup|   DeviceProtection|        TechSupport|        StreamingTV|    StreamingMovies|Contract|PaperlessBilling|       PaymentMethod|MonthlyCharges|TotalCharges|Churn|\n",
      "+----------+----------+------+-------------+-------+----------+------+------------+----------------+---------------+---------------+-------------------+-------------------+-------------------+-------------------+-------------------+--------+----------------+--------------------+--------------+------------+-----+\n",
      "|      6754|2775-SEFEE|  Male|            0|     No|       Yes|     0|         Yes|             Yes|           null|           null|                Yes|                 No|                Yes|                 No|                 No|Two year|             Yes|Bank transfer (au...|          61.9|        null|   No|\n",
      "|      3331|7644-OMVMY|  Male|            0|    Yes|       Yes|     0|         Yes|              No|           null|           null|No internet service|No internet service|No internet service|No internet service|No internet service|Two year|              No|        Mailed check|         19.85|        null|   No|\n",
      "|      1340|1371-DWPAZ|Female|            0|    Yes|       Yes|     0|          No|No phone service|           null|           null|                Yes|                Yes|                Yes|                Yes|                 No|Two year|              No|Credit card (auto...|         56.05|        null|   No|\n",
      "|      3826|3213-VVOLG|  Male|            0|    Yes|       Yes|     0|         Yes|             Yes|           null|           null|No internet service|No internet service|No internet service|No internet service|No internet service|Two year|              No|        Mailed check|         25.35|        null|   No|\n",
      "|      5218|2923-ARZLG|  Male|            0|    Yes|       Yes|     0|         Yes|              No|           null|           null|No internet service|No internet service|No internet service|No internet service|No internet service|One year|             Yes|        Mailed check|          19.7|        null|   No|\n",
      "+----------+----------+------+-------------+-------+----------+------+------------+----------------+---------------+---------------+-------------------+-------------------+-------------------+-------------------+-------------------+--------+----------------+--------------------+--------------+------------+-----+\n",
      "\n"
     ]
    }
   ],
   "source": [
    "moins_longtemps = spark.sql('SELECT * FROM TELECOM_USERS WHERE tenure IS NOT NULL ORDER BY tenure ASC LIMIT 5')\n",
    "moins_longtemps.show()"
   ]
  },
  {
   "cell_type": "code",
   "execution_count": null,
   "metadata": {
    "cell_id": "00013-df88f8d2-e331-4b4c-950e-9cb7ca495e6c",
    "deepnote_cell_type": "code",
    "deepnote_to_be_reexecuted": false,
    "execution_millis": 0,
    "execution_start": 1615989150715,
    "source_hash": "f5483f1",
    "tags": []
   },
   "outputs": [],
   "source": [
    "# Stats sur la 'tenure' et 'MonthlyCharges' \n",
    "#tenureCharges = spark.sql('SELECT DISTINCT tenure, MonthlyCharges FROM TELECOM_USERS ORDER BY tenure DESC')\n",
    "#tenureCharges.show()"
   ]
  },
  {
   "cell_type": "code",
   "execution_count": null,
   "metadata": {
    "cell_id": "00016-d982dd01-1401-4666-bb1b-813e09e95d91",
    "deepnote_cell_type": "code",
    "deepnote_to_be_reexecuted": true,
    "execution_millis": 0,
    "source_hash": "b7be7558",
    "tags": []
   },
   "outputs": [],
   "source": [
    "#Stats sur le 'Churn' et 'SeniorCitizen' ? Pour voir si les personnes âgées boostent les stats de Churn\n"
   ]
  },
  {
   "cell_type": "code",
   "execution_count": null,
   "metadata": {
    "cell_id": "00018-1003a795-9df4-48ec-95a1-cf215a6b0721",
    "deepnote_cell_type": "code",
    "deepnote_to_be_reexecuted": true,
    "execution_millis": 3491,
    "source_hash": "3acb9c2f",
    "tags": []
   },
   "outputs": [
    {
     "name": "stdout",
     "output_type": "stream",
     "text": [
      "  Churn  Total_Services\n",
      "0    No            4399\n",
      "1   Yes            1587\n"
     ]
    },
    {
     "data": {
      "image/png": "[encoded data removed]",
      "text/plain": [
       "<Figure size 432x288 with 1 Axes>"
      ]
     },
     "metadata": {
      "needs_background": "light"
     },
     "output_type": "display_data"
    }
   ],
   "source": [
    "#Stats sur le 'Churn' pour voir la quantité de clients résiliés\n",
    "churn = spark.sql(\"SELECT Churn, COUNT(*) AS Total_Services FROM TELECOM_USERS GROUP BY 1 ORDER BY 2 DESC\")\n",
    "\n",
    "pandasDF_churn = churn.toPandas()\n",
    "print(pandasDF_churn)\n",
    "\n",
    "sns.barplot(x=pandasDF_churn['Churn'], y=pandasDF_churn['Total_Services'])\n",
    "plt.draw()"
   ]
  },
  {
   "cell_type": "code",
   "execution_count": null,
   "metadata": {
    "cell_id": "00017-b4b621e3-3c4b-4904-825e-58eb93f5dde7",
    "deepnote_cell_type": "code",
    "deepnote_to_be_reexecuted": true,
    "execution_millis": 4172,
    "source_hash": "1d2291a2",
    "tags": []
   },
   "outputs": [
    {
     "name": "stdout",
     "output_type": "stream",
     "text": [
      "  InternetService  Total_Services\n",
      "0     Fiber optic            2627\n",
      "1             DSL            2068\n",
      "2              No            1291\n"
     ]
    },
    {
     "data": {
      "image/png": "[encoded data removed]",
      "text/plain": [
       "<Figure size 432x288 with 1 Axes>"
      ]
     },
     "metadata": {
      "needs_background": "light"
     },
     "output_type": "display_data"
    }
   ],
   "source": [
    "# nombre total de type of service\n",
    "type_of_service = spark.sql(\"SELECT InternetService, COUNT(*) AS Total_Services FROM TELECOM_USERS GROUP BY 1 ORDER BY 2 DESC\")\n",
    "\n",
    "pandasDF_type_of_service = type_of_service.toPandas()\n",
    "print(pandasDF_type_of_service)\n",
    "\n",
    "sns.barplot(x=pandasDF_type_of_service['InternetService'], y=pandasDF_type_of_service['Total_Services'])\n",
    "plt.draw()"
   ]
  },
  {
   "cell_type": "code",
   "execution_count": null,
   "metadata": {
    "cell_id": "00021-353f4c27-e3c0-4a30-b9ee-76adf4d9760c",
    "deepnote_cell_type": "code",
    "deepnote_to_be_reexecuted": true,
    "execution_millis": 3136,
    "source_hash": "330778cf",
    "tags": []
   },
   "outputs": [
    {
     "name": "stdout",
     "output_type": "stream",
     "text": [
      "  InternetService  Total_Services\n",
      "0     Fiber optic            2627\n",
      "1             DSL            2068\n",
      "2              No            1291\n"
     ]
    },
    {
     "data": {
      "image/png": "[encoded data removed]",
      "text/plain": [
       "<Figure size 432x288 with 1 Axes>"
      ]
     },
     "metadata": {
      "needs_background": "light"
     },
     "output_type": "display_data"
    }
   ],
   "source": [
    "# time series par rapport à la tenure\n",
    "type_of_service = spark.sql(\"SELECT InternetService, COUNT(*) AS Total_Services FROM TELECOM_USERS GROUP BY 1 ORDER BY 2 DESC\")\n",
    "\n",
    "pandasDF_type_of_service = type_of_service.toPandas()\n",
    "print(pandasDF_type_of_service)\n",
    "\n",
    "sns.barplot(x=pandasDF_type_of_service['InternetService'], y=pandasDF_type_of_service['Total_Services'])\n",
    "plt.draw()"
   ]
  },
  {
   "cell_type": "markdown",
   "metadata": {
    "cell_id": "00011-fad79002-6130-48d8-866b-73515ad9f192",
    "deepnote_cell_type": "markdown",
    "tags": []
   },
   "source": [
    "### Convertir en DF"
   ]
  },
  {
   "cell_type": "markdown",
   "metadata": {
    "cell_id": "00013-08f34634-99dd-4735-849c-15850e4c1084",
    "deepnote_cell_type": "markdown",
    "tags": []
   },
   "source": [
    "gender - client gender (male / female)\n",
    "\n",
    "SeniorCitizen - is the client retired (1, 0)\n",
    "\n",
    "Partner - is the client married (Yes, No)\n",
    "\n",
    "**tenure - how many months a person has been a client of the company**\n",
    "\n",
    "PhoneService - is the telephone service connected (Yes, No)\n",
    "\n",
    "MultipleLines - are multiple phone lines connected (Yes, No, No phone service)\n",
    "\n",
    "InternetService - client's Internet service provider (DSL, Fiber optic, No)\n",
    "\n",
    "OnlineSecurity - is the online security service connected (Yes, No, No internet service)\n",
    "\n",
    "OnlineBackup - is the online backup service activated (Yes, No, No internet service)\n",
    "\n",
    "DeviceProtection - does the client have equipment insurance (Yes, No, No internet service)\n",
    "\n",
    "TechSupport - is the technical support service connected (Yes, No, No internet service)\n",
    "\n",
    "StreamingTV - is the streaming TV service connected (Yes, No, No internet service)\n",
    "\n",
    "StreamingMovies - is the streaming cinema service activated (Yes, No, No internet service)\n",
    "\n",
    "**Contract - type of customer contract (Month-to-month, One year, Two year)**\n",
    "\n",
    "*PaperlessBilling - whether the client uses paperless billing (Yes, No)*\n",
    "\n",
    "PaymentMethod - payment method (Electronic check, Mailed check, Bank transfer (automatic), Credit card (automatic))\n",
    "\n",
    "**MonthlyCharges - current monthly payment**\n",
    "\n",
    "**TotalCharges - the total amount that the client paid for the services for the entire time**\n",
    "\n",
    "**Churn - whether there was a churn (Yes or No)**"
   ]
  },
  {
   "cell_type": "code",
   "execution_count": null,
   "metadata": {
    "cell_id": "00012-5466de94-5002-4f8a-9afd-e1e56e9e43e6",
    "deepnote_cell_type": "code",
    "deepnote_to_be_reexecuted": true,
    "execution_millis": 434,
    "source_hash": "f2e86a8d",
    "tags": []
   },
   "outputs": [
    {
     "data": {
      "text/plain": [
       "pyspark.sql.dataframe.DataFrame"
      ]
     },
     "execution_count": 31,
     "metadata": {},
     "output_type": "execute_result"
    }
   ],
   "source": [
    "df = spark.read.option(\"delimiter\", \",\").csv(\"telecom_users.csv\", header=True)\n",
    "type(df)"
   ]
  },
  {
   "cell_type": "code",
   "execution_count": null,
   "metadata": {
    "cell_id": "00013-056f668c-d9e6-4659-9211-505823fd6aaf",
    "deepnote_cell_type": "code",
    "deepnote_to_be_reexecuted": true,
    "execution_millis": 1135,
    "source_hash": "e2d3f3b8",
    "tags": []
   },
   "outputs": [],
   "source": [
    "df2= df.toPandas()"
   ]
  },
  {
   "cell_type": "code",
   "execution_count": null,
   "metadata": {
    "cell_id": "00025-8c448ddd-d56f-4816-af1d-8a9d6e8753af",
    "deepnote_cell_type": "code",
    "deepnote_to_be_reexecuted": true,
    "execution_millis": 601,
    "source_hash": "eca779d4",
    "tags": []
   },
   "outputs": [
    {
     "data": {
      "text/plain": [
       "<seaborn.axisgrid.FacetGrid at 0x7fed44c25350>"
      ]
     },
     "execution_count": 37,
     "metadata": {},
     "output_type": "execute_result"
    },
    {
     "data": {
      "image/png": "[encoded data removed]",
      "text/plain": [
       "<Figure size 433.875x360 with 1 Axes>"
      ]
     },
     "metadata": {
      "needs_background": "light"
     },
     "output_type": "display_data"
    }
   ],
   "source": [
    "sns.displot(df2, x=\"Churn\",hue=\"SeniorCitizen\")"
   ]
  },
  {
   "cell_type": "code",
   "execution_count": null,
   "metadata": {
    "cell_id": "00023-bea25698-e8d3-4f0f-9669-72fd59082da5",
    "deepnote_cell_type": "code",
    "deepnote_to_be_reexecuted": true,
    "execution_millis": 202,
    "source_hash": "d1d921de",
    "tags": []
   },
   "outputs": [
    {
     "data": {
      "text/plain": [
       "<AxesSubplot:xlabel='Contract', ylabel='count'>"
      ]
     },
     "execution_count": 67,
     "metadata": {},
     "output_type": "execute_result"
    },
    {
     "data": {
      "image/png": "[encoded data removed]",
      "text/plain": [
       "<Figure size 432x288 with 1 Axes>"
      ]
     },
     "metadata": {
      "needs_background": "light"
     },
     "output_type": "display_data"
    }
   ],
   "source": [
    "# Visualiser la répartition des contrats\n",
    "sns.countplot(x=\"Contract\", data=df2 , order= ['Month-to-month', 'One year' ,'Two year'])"
   ]
  },
  {
   "cell_type": "markdown",
   "metadata": {
    "created_in_deepnote_cell": true,
    "deepnote_cell_type": "markdown",
    "tags": []
   },
   "source": [
    "<a style='text-decoration:none;line-height:16px;display:flex;color:#5B5B62;padding:10px;justify-content:end;' href='https://deepnote.com?utm_source=created-in-deepnote-cell&projectId=054ccd47-6487-41f2-b86b-f5bb05f69fd8' target=\"_blank\">\n",
    "<img style='display:inline;max-height:16px;margin:0px;margin-right:7.5px;' src='data:image/svg+xml;base64,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' > </img>\n",
    "Created in <span style='font-weight:600;margin-left:4px;'>Deepnote</span></a>"
   ]
  }
 ],
 "metadata": {
  "deepnote": {
   "is_reactive": false
  },
  "deepnote_execution_queue": [],
  "deepnote_notebook_id": "599d1621-49c9-43bf-af4e-7995fcf36b56",
  "kernelspec": {
   "display_name": "Python 3",
   "language": "python",
   "name": "python3"
  },
  "language_info": {
   "codemirror_mode": {
    "name": "ipython",
    "version": 3
   },
   "file_extension": ".py",
   "mimetype": "text/x-python",
   "name": "python",
   "nbconvert_exporter": "python",
   "pygments_lexer": "ipython3",
   "version": "3.6.13"
  }
 },
 "nbformat": 4,
 "nbformat_minor": 4
}
